{
 "cells": [
  {
   "cell_type": "markdown",
   "metadata": {
    "papermill": {
     "duration": 0.013209,
     "end_time": "2022-01-22T09:02:06.890998",
     "exception": false,
     "start_time": "2022-01-22T09:02:06.877789",
     "status": "completed"
    },
    "tags": []
   },
   "source": [
    "# Guess Who?\n",
    "\n",
    "Aswin van Woudenberg (https://www.aswinvanwoudenberg.com | https://github.com/afvanwoudenberg)"
   ]
  },
  {
   "cell_type": "code",
   "execution_count": 1,
   "metadata": {
    "execution": {
     "iopub.execute_input": "2022-01-22T09:02:06.922952Z",
     "iopub.status.busy": "2022-01-22T09:02:06.922351Z",
     "iopub.status.idle": "2022-01-22T09:02:08.456182Z",
     "shell.execute_reply": "2022-01-22T09:02:08.456680Z",
     "shell.execute_reply.started": "2022-01-22T08:56:55.125093Z"
    },
    "papermill": {
     "duration": 1.552857,
     "end_time": "2022-01-22T09:02:08.457049",
     "exception": false,
     "start_time": "2022-01-22T09:02:06.904192",
     "status": "completed"
    },
    "tags": []
   },
   "outputs": [],
   "source": [
    "import pandas as pd\n",
    "import numpy as np\n",
    "import re\n",
    "\n",
    "from ipywidgets import GridspecLayout, HTML, VBox, HBox, Button, Label\n",
    "from sklearn.tree import DecisionTreeClassifier"
   ]
  },
  {
   "cell_type": "code",
   "execution_count": 2,
   "metadata": {
    "execution": {
     "iopub.execute_input": "2022-01-22T09:02:08.536390Z",
     "iopub.status.busy": "2022-01-22T09:02:08.535577Z",
     "iopub.status.idle": "2022-01-22T09:02:08.713135Z",
     "shell.execute_reply": "2022-01-22T09:02:08.712453Z",
     "shell.execute_reply.started": "2022-01-22T08:56:56.425976Z"
    },
    "papermill": {
     "duration": 0.199293,
     "end_time": "2022-01-22T09:02:08.713286",
     "exception": false,
     "start_time": "2022-01-22T09:02:08.513993",
     "status": "completed"
    },
    "tags": []
   },
   "outputs": [],
   "source": [
    "df = pd.DataFrame({\n",
    "    # hair style\n",
    "    'hair_partition': [0, 1, 1, 0, 0, 0, 1, 0, 1, 0, 0, 0, 0, 0, 0, 0, 1, 1, 0, 0, 1, 0, 1, 0], \n",
    "    'curly_hair':     [0, 0, 0, 1, 0, 0, 0, 0, 0, 0, 1, 0, 1, 1, 0, 1, 0, 0, 1, 0, 0, 0, 0, 0],\n",
    "    'hat':            [0, 0, 0, 0, 1, 0, 0, 1, 0, 1, 0, 1, 0, 0, 1, 0, 0, 0, 0, 0, 0, 0, 0, 0],\n",
    "    'bald':           [0, 0, 0, 0, 0, 1, 0, 0, 0, 0, 0, 0, 1, 0, 0, 0, 0, 0, 0, 1, 0, 1, 0, 1],\n",
    "    'long_hair':      [0, 1, 1, 0, 0, 0, 0, 0, 0, 0, 0, 0, 0, 0, 1, 0, 0, 0, 0, 0, 0, 0, 1, 0],\n",
    "    # hair color\n",
    "    'ginger_hair':    [0, 1, 0, 0, 0, 1, 0, 1, 0, 0, 1, 0, 1, 0, 0, 0, 0, 0, 0, 0, 0, 0, 0, 0],\n",
    "    'white_hair':     [0, 0, 0, 0, 0, 0, 0, 0, 0, 0, 0, 1, 0, 0, 0, 0, 1, 1, 0, 0, 0, 1, 1, 0],\n",
    "    'brown_hair':     [0, 0, 0, 0, 1, 0, 0, 0, 0, 0, 0, 0, 0, 0, 1, 0, 0, 0, 0, 1, 1, 0, 0, 0],\n",
    "    'blond_hair':     [0, 0, 1, 0, 0, 0, 1, 0, 1, 1, 0, 0, 0, 1, 0, 0, 0, 0, 0, 0, 0, 0, 0, 0],\n",
    "    'black_hair':     [1, 0, 0, 1, 0, 0, 0, 0, 0, 0, 0, 0, 0, 0, 0, 1, 0, 0, 1, 0, 0, 0, 0, 1],\n",
    "    # facial attributes\n",
    "    'big_mouth':      [1, 0, 0, 0, 0, 0, 1, 0, 1, 1, 0, 1, 0, 0, 0, 1, 0, 1, 1, 0, 1, 0, 1, 0],\n",
    "    'big_nose':       [0, 0, 0, 0, 1, 0, 0, 0, 0, 0, 0, 0, 1, 0, 0, 1, 0, 1, 0, 0, 1, 0, 0, 0],\n",
    "    'red_cheeks':     [0, 0, 1, 0, 0, 1, 0, 0, 0, 0, 0, 0, 0, 0, 0, 0, 0, 0, 1, 0, 1, 0, 1, 0],\n",
    "    'blue_eyes':      [0, 1, 1, 0, 0, 0, 0, 0, 0, 0, 0, 0, 0, 0, 0, 0, 0, 1, 0, 0, 1, 0, 0, 1],\n",
    "    'sad_looking':    [0, 1, 0, 0, 1, 0, 0, 0, 0, 0, 0, 1, 0, 0, 0, 0, 0, 0, 0, 0, 1, 0, 0, 0],\n",
    "    # facial hair\n",
    "    'facial_hair':    [1, 1, 0, 0, 0, 1, 1, 0, 1, 0, 0, 0, 0, 0, 0, 1, 0, 0, 1, 1, 0, 0, 0, 0],\n",
    "    'moustache':      [1, 1, 0, 0, 0, 0, 1, 0, 0, 0, 0, 0, 0, 0, 0, 1, 0, 0, 0, 1, 0, 0, 0, 0],\n",
    "    'beard':          [0, 0, 0, 0, 0, 1, 0, 0, 1, 0, 0, 0, 0, 0, 0, 0, 0, 0, 1, 1, 0, 0, 0, 0],\n",
    "    # other\n",
    "    'glasses':        [0, 0, 0, 0, 0, 0, 0, 1, 0, 0, 0, 0, 0, 1, 0, 0, 1, 0, 0, 0, 0, 1, 0, 1],\n",
    "    'earrings':      [0, 0, 0, 1, 0, 0, 0, 1, 0, 0, 0, 0, 0, 0, 1, 0, 0, 0, 0, 0, 0, 0, 0, 0],\n",
    "    'female':         [0, 0, 1, 1, 0, 0, 0, 1, 0, 0, 0, 0, 0, 0, 1, 0, 0, 0, 0, 0, 0, 0, 1, 0],\n",
    "    # names\n",
    "    'name':           ['alex', 'alfred', 'anita', 'anne', 'bernard', 'bill', 'charles', 'claire', \n",
    "                       'david', 'eric', 'frans', 'george', 'herman', 'joe', 'maria', 'max', 'paul', \n",
    "                       'peter', 'philip', 'richard', 'robert', 'sam', 'susan', 'tom']\n",
    "})"
   ]
  },
  {
   "cell_type": "code",
   "execution_count": 3,
   "metadata": {
    "execution": {
     "iopub.execute_input": "2022-01-22T09:02:08.792088Z",
     "iopub.status.busy": "2022-01-22T09:02:08.791271Z",
     "iopub.status.idle": "2022-01-22T09:02:08.796968Z",
     "shell.execute_reply": "2022-01-22T09:02:08.797549Z",
     "shell.execute_reply.started": "2022-01-22T08:56:56.589677Z"
    },
    "papermill": {
     "duration": 0.028329,
     "end_time": "2022-01-22T09:02:08.797719",
     "exception": false,
     "start_time": "2022-01-22T09:02:08.769390",
     "status": "completed"
    },
    "tags": []
   },
   "outputs": [],
   "source": [
    "column_description = {\n",
    "    \"hair_partition\": \"Does your character have a visible hair partition?\",\n",
    "    \"curly_hair\": \"Does your character have curly hair?\",\n",
    "    \"hat\": \"Does your character wear a hat?\",\n",
    "    \"bald\": \"Is your character bald?\",\n",
    "    \"long_hair\": \"Does your character have long hair?\",\n",
    "    \"ginger_hair\": \"Does your character have ginger hair?\",\n",
    "    \"white_hair\": \"Does your character have white hair?\",\n",
    "    \"brown_hair\": \"Does your character have brown hair?\",\n",
    "    \"blond_hair\": \"Does your character have blond hair?\",\n",
    "    \"black_hair\": \"Does your character have black hair?\",\n",
    "    \"big_mouth\": \"Does your character have a big mouth?\",\n",
    "    \"big_nose\": \"Does your character have a big nose?\",\n",
    "    \"red_cheeks\": \"Does your character have red cheeks?\",\n",
    "    \"blue_eyes\": \"Does your character have blue eyes?\",\n",
    "    \"sad_looking\": \"Does your character look sad?\",\n",
    "    \"facial_hair\": \"Does your character have facial hair?\",\n",
    "    \"moustache\": \"Does your character have a moustache?\",\n",
    "    \"beard\": \"Does your character have a beard?\",\n",
    "    \"glasses\": \"Does your character wear glasses?\",\n",
    "    \"earrings\": \"Does your character wear earrings?\",\n",
    "    \"female\": \"Is your character female?\"\n",
    "}"
   ]
  },
  {
   "cell_type": "code",
   "execution_count": 4,
   "metadata": {
    "execution": {
     "iopub.execute_input": "2022-01-22T09:02:08.876674Z",
     "iopub.status.busy": "2022-01-22T09:02:08.875882Z",
     "iopub.status.idle": "2022-01-22T09:02:08.888096Z",
     "shell.execute_reply": "2022-01-22T09:02:08.888668Z",
     "shell.execute_reply.started": "2022-01-22T08:56:56.602307Z"
    },
    "papermill": {
     "duration": 0.03445,
     "end_time": "2022-01-22T09:02:08.888894",
     "exception": false,
     "start_time": "2022-01-22T09:02:08.854444",
     "status": "completed"
    },
    "tags": []
   },
   "outputs": [],
   "source": [
    "X = df.iloc[:, :-1]\n",
    "y = df.iloc[:, -1]"
   ]
  },
  {
   "cell_type": "code",
   "execution_count": 5,
   "metadata": {
    "execution": {
     "iopub.execute_input": "2022-01-22T09:02:08.932760Z",
     "iopub.status.busy": "2022-01-22T09:02:08.931956Z",
     "iopub.status.idle": "2022-01-22T09:02:08.937120Z",
     "shell.execute_reply": "2022-01-22T09:02:08.937671Z",
     "shell.execute_reply.started": "2022-01-22T08:56:56.621714Z"
    },
    "papermill": {
     "duration": 0.027983,
     "end_time": "2022-01-22T09:02:08.937864",
     "exception": false,
     "start_time": "2022-01-22T09:02:08.909881",
     "status": "completed"
    },
    "tags": []
   },
   "outputs": [],
   "source": [
    "feature_names = list(df.columns)[:-1]\n",
    "target_name = df.columns[-1]"
   ]
  },
  {
   "cell_type": "code",
   "execution_count": 6,
   "metadata": {
    "execution": {
     "iopub.execute_input": "2022-01-22T09:02:08.980107Z",
     "iopub.status.busy": "2022-01-22T09:02:08.979252Z",
     "iopub.status.idle": "2022-01-22T09:02:08.997459Z",
     "shell.execute_reply": "2022-01-22T09:02:08.998009Z",
     "shell.execute_reply.started": "2022-01-22T08:56:56.628952Z"
    },
    "papermill": {
     "duration": 0.040715,
     "end_time": "2022-01-22T09:02:08.998187",
     "exception": false,
     "start_time": "2022-01-22T09:02:08.957472",
     "status": "completed"
    },
    "tags": []
   },
   "outputs": [],
   "source": [
    "clf = DecisionTreeClassifier(criterion = \"entropy\")\n",
    "clf = clf.fit(X, y)"
   ]
  },
  {
   "cell_type": "code",
   "execution_count": 7,
   "metadata": {
    "execution": {
     "iopub.execute_input": "2022-01-22T09:02:11.700587Z",
     "iopub.status.busy": "2022-01-22T09:02:11.700144Z",
     "iopub.status.idle": "2022-01-22T09:02:12.086768Z",
     "shell.execute_reply": "2022-01-22T09:02:12.004970Z",
     "shell.execute_reply.started": "2022-01-22T08:56:59.301870Z"
    },
    "papermill": {
     "duration": 0.404369,
     "end_time": "2022-01-22T09:02:12.086948",
     "exception": false,
     "start_time": "2022-01-22T09:02:11.682579",
     "status": "completed"
    },
    "tags": []
   },
   "outputs": [],
   "source": [
    "grid = GridspecLayout(3, 8)\n",
    "grid.width = \"1400px\"\n",
    "\n",
    "for i in range(3):\n",
    "    for j in range(8):\n",
    "        grid[i, j] = HTML(value=\"<img src='https://guesswhocharacters.info/imgs/{}.jpeg' width=162 height=237>\".format(str(df.name[i*8+j])))\n",
    "\n",
    "label = Label(value=\"Put the questions and answer here\")\n",
    "button_yes = Button(description=\"Yes\")\n",
    "button_no = Button(description=\"No\")\n",
    "button_play_again = Button(description=\"Play again\")\n",
    "hbox = HBox([label, button_yes, button_no, button_play_again])\n",
    "vbox = VBox([grid, hbox])"
   ]
  },
  {
   "cell_type": "code",
   "execution_count": 8,
   "metadata": {
    "execution": {
     "iopub.execute_input": "2022-01-22T09:02:12.183676Z",
     "iopub.status.busy": "2022-01-22T09:02:12.183046Z",
     "iopub.status.idle": "2022-01-22T09:02:12.187691Z",
     "shell.execute_reply": "2022-01-22T09:02:12.188235Z",
     "shell.execute_reply.started": "2022-01-22T08:56:59.580328Z"
    },
    "papermill": {
     "duration": 0.031446,
     "end_time": "2022-01-22T09:02:12.188416",
     "exception": false,
     "start_time": "2022-01-22T09:02:12.156970",
     "status": "completed"
    },
    "tags": []
   },
   "outputs": [],
   "source": [
    "children_left = clf.tree_.children_left\n",
    "children_right = clf.tree_.children_right\n",
    "feature = clf.tree_.feature\n",
    "value = clf.tree_.value\n",
    "\n",
    "# Start at root\n",
    "node_id = 0"
   ]
  },
  {
   "cell_type": "code",
   "execution_count": 9,
   "metadata": {
    "execution": {
     "iopub.execute_input": "2022-01-22T09:02:12.285955Z",
     "iopub.status.busy": "2022-01-22T09:02:12.285213Z",
     "iopub.status.idle": "2022-01-22T09:02:12.298020Z",
     "shell.execute_reply": "2022-01-22T09:02:12.298568Z",
     "shell.execute_reply.started": "2022-01-22T08:56:59.587784Z"
    },
    "papermill": {
     "duration": 0.040185,
     "end_time": "2022-01-22T09:02:12.298758",
     "exception": false,
     "start_time": "2022-01-22T09:02:12.258573",
     "status": "completed"
    },
    "tags": []
   },
   "outputs": [],
   "source": [
    "def update_gui():\n",
    "    if children_left[node_id] == children_right[node_id]:\n",
    "        label.value = \"You character is \" + y[np.argmax(value[node_id])].capitalize()\n",
    "        button_yes.layout.display = 'none'\n",
    "        button_no.layout.display = 'none'\n",
    "        button_play_again.layout.display = 'block'\n",
    "    else:\n",
    "        label.value = column_description[df.columns[feature[node_id]]]\n",
    "        button_yes.layout.display = 'block'\n",
    "        button_no.layout.display = 'block'\n",
    "        button_play_again.layout.display = 'none'\n",
    "\n",
    "def show_all_cards():\n",
    "    for i in range(3):\n",
    "        for j in range(8):\n",
    "            grid[i, j].layout.visibility = 'visible'\n",
    "\n",
    "def hide_cards(attribute, val):\n",
    "    for i in range(3):\n",
    "        for j in range(8):\n",
    "            if df[attribute][i*8+j] == val:\n",
    "                grid[i, j].layout.visibility = 'hidden'\n",
    "        \n",
    "def on_button_yes_clicked(b):\n",
    "    global node_id\n",
    "    hide_cards(df.columns[feature[node_id]], 0)\n",
    "    node_id = children_right[node_id]\n",
    "    update_gui()\n",
    "\n",
    "def on_button_no_clicked(b):\n",
    "    global node_id\n",
    "    hide_cards(df.columns[feature[node_id]], 1)\n",
    "    node_id = children_left[node_id]\n",
    "    update_gui()\n",
    "\n",
    "def on_button_play_again_clicked(b):\n",
    "    global node_id\n",
    "    show_all_cards()\n",
    "    node_id = 0\n",
    "    update_gui()\n",
    "    \n",
    "button_yes.on_click(on_button_yes_clicked)\n",
    "button_no.on_click(on_button_no_clicked)\n",
    "button_play_again.on_click(on_button_play_again_clicked)\n",
    "\n",
    "update_gui()"
   ]
  },
  {
   "cell_type": "code",
   "execution_count": 10,
   "metadata": {
    "execution": {
     "iopub.execute_input": "2022-01-22T09:02:12.395254Z",
     "iopub.status.busy": "2022-01-22T09:02:12.394595Z",
     "iopub.status.idle": "2022-01-22T09:02:12.421208Z",
     "shell.execute_reply": "2022-01-22T09:02:12.421705Z",
     "shell.execute_reply.started": "2022-01-22T08:56:59.605358Z"
    },
    "papermill": {
     "duration": 0.05376,
     "end_time": "2022-01-22T09:02:12.421932",
     "exception": false,
     "start_time": "2022-01-22T09:02:12.368172",
     "status": "completed"
    },
    "tags": []
   },
   "outputs": [
    {
     "data": {
      "application/vnd.jupyter.widget-view+json": {
       "model_id": "51c3e1d3e1d54f988049193ca8b364cc",
       "version_major": 2,
       "version_minor": 0
      },
      "text/plain": [
       "VBox(children=(GridspecLayout(children=(HTML(value=\"<img src='https://guesswhocharacters.info/imgs/alex.jpeg' …"
      ]
     },
     "metadata": {},
     "output_type": "display_data"
    }
   ],
   "source": [
    "display(vbox)"
   ]
  }
 ],
 "metadata": {
  "kernelspec": {
   "display_name": "Python 3 (ipykernel)",
   "language": "python",
   "name": "python3"
  },
  "language_info": {
   "codemirror_mode": {
    "name": "ipython",
    "version": 3
   },
   "file_extension": ".py",
   "mimetype": "text/x-python",
   "name": "python",
   "nbconvert_exporter": "python",
   "pygments_lexer": "ipython3",
   "version": "3.9.16"
  },
  "papermill": {
   "default_parameters": {},
   "duration": 13.23003,
   "end_time": "2022-01-22T09:02:13.406449",
   "environment_variables": {},
   "exception": null,
   "input_path": "__notebook__.ipynb",
   "output_path": "__notebook__.ipynb",
   "parameters": {},
   "start_time": "2022-01-22T09:02:00.176419",
   "version": "2.2.2"
  },
  "widgets": {
   "application/vnd.jupyter.widget-state+json": {
    "state": {
     "01c478c5c23f4931bf8fbab123c448a1": {
      "model_module": "@jupyter-widgets/base",
      "model_module_version": "1.2.0",
      "model_name": "LayoutModel",
      "state": {
       "display": "block"
      }
     },
     "02a6a098757c4aa4a169974a571fbce6": {
      "model_module": "@jupyter-widgets/base",
      "model_module_version": "1.2.0",
      "model_name": "LayoutModel",
      "state": {
       "grid_area": "widget015"
      }
     },
     "03c8c808f04143ef98028c4e33a5e0de": {
      "model_module": "@jupyter-widgets/controls",
      "model_module_version": "1.5.0",
      "model_name": "DescriptionStyleModel",
      "state": {
       "description_width": ""
      }
     },
     "03db2aa9200944bb9cd015ec142f63ae": {
      "model_module": "@jupyter-widgets/base",
      "model_module_version": "1.2.0",
      "model_name": "LayoutModel",
      "state": {
       "grid_area": "widget017"
      }
     },
     "08e3d86307854036905af58c61b55d28": {
      "model_module": "@jupyter-widgets/controls",
      "model_module_version": "1.5.0",
      "model_name": "HTMLModel",
      "state": {
       "layout": "IPY_MODEL_02a6a098757c4aa4a169974a571fbce6",
       "style": "IPY_MODEL_f03b8d0bdec74a50bdb5723d7ce5e457",
       "value": "<img src='https://guesswhocharacters.info/imgs/maria.jpeg' width=162 height=237>"
      }
     },
     "09810b03cfdf4e2ab263156f56738c5c": {
      "model_module": "@jupyter-widgets/controls",
      "model_module_version": "1.5.0",
      "model_name": "HBoxModel",
      "state": {
       "children": [
        "IPY_MODEL_a832e3a7b6ab418fbc85f9aa1bc2ff2f",
        "IPY_MODEL_1b55cfc68fc447db8e22a495193927d1",
        "IPY_MODEL_b78f81a3b21e41968697a261a17974bb",
        "IPY_MODEL_0ffc1b57af3542aca3a1e248d758527e"
       ],
       "layout": "IPY_MODEL_c869d68a873f4589ad57ff012287dbc6"
      }
     },
     "0a2765b32a874ad196b59296d25bef30": {
      "model_module": "@jupyter-widgets/controls",
      "model_module_version": "1.5.0",
      "model_name": "HTMLModel",
      "state": {
       "layout": "IPY_MODEL_fbb9d73edae9426ea2d9f3e07c032eea",
       "style": "IPY_MODEL_e13e1b31158a416dbd53a6c0a93eb1ea",
       "value": "<img src='https://guesswhocharacters.info/imgs/joe.jpeg' width=162 height=237>"
      }
     },
     "0c3e8e1a3c7746aa85b774e877dc5740": {
      "model_module": "@jupyter-widgets/controls",
      "model_module_version": "1.5.0",
      "model_name": "HTMLModel",
      "state": {
       "layout": "IPY_MODEL_5fbca459200f49c9a713bb57dd06a98b",
       "style": "IPY_MODEL_609ddfd68f4447b6bf86fb291aeb1d2e",
       "value": "<img src='https://guesswhocharacters.info/imgs/george.jpeg' width=162 height=237>"
      }
     },
     "0cd14722758e4c4ca39690bafb4d7df3": {
      "model_module": "@jupyter-widgets/base",
      "model_module_version": "1.2.0",
      "model_name": "LayoutModel",
      "state": {
       "grid_area": "widget021"
      }
     },
     "0ffc1b57af3542aca3a1e248d758527e": {
      "model_module": "@jupyter-widgets/controls",
      "model_module_version": "1.5.0",
      "model_name": "ButtonModel",
      "state": {
       "description": "Play again",
       "layout": "IPY_MODEL_b940a18ef7214057a6d5ad36c96ab6e5",
       "style": "IPY_MODEL_bfa03e8bbffe4a09a9ed63d657200806"
      }
     },
     "110b5d4965e34c4c9c6ff76795b7b491": {
      "model_module": "@jupyter-widgets/base",
      "model_module_version": "1.2.0",
      "model_name": "LayoutModel",
      "state": {
       "grid_area": "widget005"
      }
     },
     "13f90b91e66546daa230418eeac28384": {
      "model_module": "@jupyter-widgets/controls",
      "model_module_version": "1.5.0",
      "model_name": "HTMLModel",
      "state": {
       "layout": "IPY_MODEL_6207d4dda45f4d7984f00f2c4a593649",
       "style": "IPY_MODEL_1ef991f893ec4afc95db78674e5b8b0c",
       "value": "<img src='https://guesswhocharacters.info/imgs/max.jpeg' width=162 height=237>"
      }
     },
     "16aea866a60e463a9aca84f9b202ee4b": {
      "model_module": "@jupyter-widgets/controls",
      "model_module_version": "1.5.0",
      "model_name": "DescriptionStyleModel",
      "state": {
       "description_width": ""
      }
     },
     "1804fc43a72e4d38abcbc3db13dfbe42": {
      "model_module": "@jupyter-widgets/controls",
      "model_module_version": "1.5.0",
      "model_name": "HTMLModel",
      "state": {
       "layout": "IPY_MODEL_527dbb2520f14ac3b7c6d2449be5a560",
       "style": "IPY_MODEL_9aa0fc505c5c48338cb92129522aa43f",
       "value": "<img src='https://guesswhocharacters.info/imgs/peter.jpeg' width=162 height=237>"
      }
     },
     "18b1e12ef83141d19be47626db54b3aa": {
      "model_module": "@jupyter-widgets/base",
      "model_module_version": "1.2.0",
      "model_name": "LayoutModel",
      "state": {
       "grid_area": "widget007"
      }
     },
     "19ee9000c8cd487c819e45bd4754f9c5": {
      "model_module": "@jupyter-widgets/base",
      "model_module_version": "1.2.0",
      "model_name": "LayoutModel",
      "state": {
       "grid_area": "widget023"
      }
     },
     "1b0ad1cdf9e54f288e30636828a8f694": {
      "model_module": "@jupyter-widgets/controls",
      "model_module_version": "1.5.0",
      "model_name": "HTMLModel",
      "state": {
       "layout": "IPY_MODEL_110b5d4965e34c4c9c6ff76795b7b491",
       "style": "IPY_MODEL_94ca10e5f48c4fb787490dec5829f37a",
       "value": "<img src='https://guesswhocharacters.info/imgs/bernard.jpeg' width=162 height=237>"
      }
     },
     "1b55cfc68fc447db8e22a495193927d1": {
      "model_module": "@jupyter-widgets/controls",
      "model_module_version": "1.5.0",
      "model_name": "ButtonModel",
      "state": {
       "description": "Yes",
       "layout": "IPY_MODEL_01c478c5c23f4931bf8fbab123c448a1",
       "style": "IPY_MODEL_59cd336530b84049a7d985e1107d153b"
      }
     },
     "1bf4ebe0a1b94a1ea6d1e1fa44355928": {
      "model_module": "@jupyter-widgets/base",
      "model_module_version": "1.2.0",
      "model_name": "LayoutModel",
      "state": {
       "grid_area": "widget001"
      }
     },
     "1ce1c08db30d44dc8d68f68db1326126": {
      "model_module": "@jupyter-widgets/controls",
      "model_module_version": "1.5.0",
      "model_name": "ButtonStyleModel",
      "state": {}
     },
     "1d179b4448f54ba1948256599a0e0ea5": {
      "model_module": "@jupyter-widgets/controls",
      "model_module_version": "1.5.0",
      "model_name": "HTMLModel",
      "state": {
       "layout": "IPY_MODEL_66b41819f19e4bf194a0f2905e423641",
       "style": "IPY_MODEL_2e00d53267644a47ac9d0b7b18a6cbd8",
       "value": "<img src='https://guesswhocharacters.info/imgs/george.jpeg' width=162 height=237>"
      }
     },
     "1e349eae83e2474e83154745657535e8": {
      "model_module": "@jupyter-widgets/controls",
      "model_module_version": "1.5.0",
      "model_name": "HTMLModel",
      "state": {
       "layout": "IPY_MODEL_adc5628554364867ba2531cc10e97b6b",
       "style": "IPY_MODEL_465e2c58260e4f3b9d19b003081a630c",
       "value": "<img src='https://guesswhocharacters.info/imgs/claire.jpeg' width=162 height=237>"
      }
     },
     "1ef991f893ec4afc95db78674e5b8b0c": {
      "model_module": "@jupyter-widgets/controls",
      "model_module_version": "1.5.0",
      "model_name": "DescriptionStyleModel",
      "state": {
       "description_width": ""
      }
     },
     "204616985e594cdf8d0258519daa811e": {
      "model_module": "@jupyter-widgets/controls",
      "model_module_version": "1.5.0",
      "model_name": "DescriptionStyleModel",
      "state": {
       "description_width": ""
      }
     },
     "220516c281bf4b8b8a71599f571c1eb8": {
      "model_module": "@jupyter-widgets/base",
      "model_module_version": "1.2.0",
      "model_name": "LayoutModel",
      "state": {
       "grid_area": "widget022"
      }
     },
     "2225cc7555b8407aa1d9bc99fa79abac": {
      "model_module": "@jupyter-widgets/controls",
      "model_module_version": "1.5.0",
      "model_name": "HTMLModel",
      "state": {
       "layout": "IPY_MODEL_2878507acda94f8cb635faeb9c4969cd",
       "style": "IPY_MODEL_87796e69f74342598df56e8a374f48a3",
       "value": "<img src='https://guesswhocharacters.info/imgs/claire.jpeg' width=162 height=237>"
      }
     },
     "22eb8aeeb2de493fbb2fd80d943e4707": {
      "model_module": "@jupyter-widgets/controls",
      "model_module_version": "1.5.0",
      "model_name": "HTMLModel",
      "state": {
       "layout": "IPY_MODEL_a187467f83644369a7666ceb33c9a7c6",
       "style": "IPY_MODEL_e652541a9ef942fe92556d391a4e29f2",
       "value": "<img src='https://guesswhocharacters.info/imgs/anne.jpeg' width=162 height=237>"
      }
     },
     "25926b3aff5148fc8e5a073d6cf6bc81": {
      "model_module": "@jupyter-widgets/controls",
      "model_module_version": "1.5.0",
      "model_name": "HTMLModel",
      "state": {
       "layout": "IPY_MODEL_f7bcd2e2571941988b53a944fe91d7fc",
       "style": "IPY_MODEL_d0070c56a3ed44ee87d5ca2a5b75b3ed",
       "value": "<img src='https://guesswhocharacters.info/imgs/susan.jpeg' width=162 height=237>"
      }
     },
     "2764c810157f43ca9efcd2241e1eb3aa": {
      "model_module": "@jupyter-widgets/base",
      "model_module_version": "1.2.0",
      "model_name": "LayoutModel",
      "state": {
       "grid_area": "widget011"
      }
     },
     "2878507acda94f8cb635faeb9c4969cd": {
      "model_module": "@jupyter-widgets/base",
      "model_module_version": "1.2.0",
      "model_name": "LayoutModel",
      "state": {
       "grid_area": "widget008"
      }
     },
     "28dbc52f3add48f0a3bb32a0b7083fc3": {
      "model_module": "@jupyter-widgets/base",
      "model_module_version": "1.2.0",
      "model_name": "LayoutModel",
      "state": {
       "grid_area": "widget019"
      }
     },
     "2a12c8b17d654476a90925b09c2ea5f8": {
      "model_module": "@jupyter-widgets/controls",
      "model_module_version": "1.5.0",
      "model_name": "DescriptionStyleModel",
      "state": {
       "description_width": ""
      }
     },
     "2b629bfaab7b412d8627393543237eb6": {
      "model_module": "@jupyter-widgets/base",
      "model_module_version": "1.2.0",
      "model_name": "LayoutModel",
      "state": {
       "grid_area": "widget015"
      }
     },
     "2e00d53267644a47ac9d0b7b18a6cbd8": {
      "model_module": "@jupyter-widgets/controls",
      "model_module_version": "1.5.0",
      "model_name": "DescriptionStyleModel",
      "state": {
       "description_width": ""
      }
     },
     "2fa9b09c059545299870c1b19d3ce73a": {
      "model_module": "@jupyter-widgets/controls",
      "model_module_version": "1.5.0",
      "model_name": "HTMLModel",
      "state": {
       "layout": "IPY_MODEL_19ee9000c8cd487c819e45bd4754f9c5",
       "style": "IPY_MODEL_ab164734d561462cb7a83cd7469b6ae7",
       "value": "<img src='https://guesswhocharacters.info/imgs/susan.jpeg' width=162 height=237>"
      }
     },
     "39364dddd1504a68a1ade5233044ace7": {
      "model_module": "@jupyter-widgets/base",
      "model_module_version": "1.2.0",
      "model_name": "LayoutModel",
      "state": {
       "grid_template_areas": "\"widget001 widget002 widget003 widget004 widget005 widget006 widget007 widget008\"\n\"widget009 widget010 widget011 widget012 widget013 widget014 widget015 widget016\"\n\"widget017 widget018 widget019 widget020 widget021 widget022 widget023 widget024\"",
       "grid_template_columns": "repeat(8, 1fr)",
       "grid_template_rows": "repeat(3, 1fr)",
       "width": "1400px"
      }
     },
     "3aa90e1979f546a58664ca4a86c49526": {
      "model_module": "@jupyter-widgets/controls",
      "model_module_version": "1.5.0",
      "model_name": "DescriptionStyleModel",
      "state": {
       "description_width": ""
      }
     },
     "3de6b4dfc7f24c4293fbd1e6471a76a1": {
      "model_module": "@jupyter-widgets/base",
      "model_module_version": "1.2.0",
      "model_name": "LayoutModel",
      "state": {
       "grid_area": "widget002"
      }
     },
     "41bc3fed16de424b98df1a92937ed76e": {
      "model_module": "@jupyter-widgets/controls",
      "model_module_version": "1.5.0",
      "model_name": "HTMLModel",
      "state": {
       "layout": "IPY_MODEL_cb47b70bd5ff402bbd87ec9b1a0b3d97",
       "style": "IPY_MODEL_41ebb66e102c4d018a27567ca6b9a5d7",
       "value": "<img src='https://guesswhocharacters.info/imgs/anita.jpeg' width=162 height=237>"
      }
     },
     "41ebb66e102c4d018a27567ca6b9a5d7": {
      "model_module": "@jupyter-widgets/controls",
      "model_module_version": "1.5.0",
      "model_name": "DescriptionStyleModel",
      "state": {
       "description_width": ""
      }
     },
     "42c583a27e814c4bac44ef49f13dd810": {
      "model_module": "@jupyter-widgets/base",
      "model_module_version": "1.2.0",
      "model_name": "LayoutModel",
      "state": {
       "grid_area": "widget003"
      }
     },
     "437cc84b4ca84e868d0cb427831173c8": {
      "model_module": "@jupyter-widgets/controls",
      "model_module_version": "1.5.0",
      "model_name": "DescriptionStyleModel",
      "state": {
       "description_width": ""
      }
     },
     "465e2c58260e4f3b9d19b003081a630c": {
      "model_module": "@jupyter-widgets/controls",
      "model_module_version": "1.5.0",
      "model_name": "DescriptionStyleModel",
      "state": {
       "description_width": ""
      }
     },
     "4870e9126ec24675a5b01e9f2d83c8ae": {
      "model_module": "@jupyter-widgets/controls",
      "model_module_version": "1.5.0",
      "model_name": "DescriptionStyleModel",
      "state": {
       "description_width": ""
      }
     },
     "4a159aae3157432d9aef278fed4a3216": {
      "model_module": "@jupyter-widgets/controls",
      "model_module_version": "1.5.0",
      "model_name": "DescriptionStyleModel",
      "state": {
       "description_width": ""
      }
     },
     "4af5b963020f44c19d333d75aadfda8b": {
      "model_module": "@jupyter-widgets/controls",
      "model_module_version": "1.5.0",
      "model_name": "DescriptionStyleModel",
      "state": {
       "description_width": ""
      }
     },
     "4c9be5b630724b3b8b78e28a718486f5": {
      "model_module": "@jupyter-widgets/base",
      "model_module_version": "1.2.0",
      "model_name": "LayoutModel",
      "state": {
       "display": "block"
      }
     },
     "4cb045dda4074ce38d3fcf8c4053ad4c": {
      "model_module": "@jupyter-widgets/controls",
      "model_module_version": "1.5.0",
      "model_name": "DescriptionStyleModel",
      "state": {
       "description_width": ""
      }
     },
     "4e3f925a46c24eef8632a05f52cca703": {
      "model_module": "@jupyter-widgets/controls",
      "model_module_version": "1.5.0",
      "model_name": "HTMLModel",
      "state": {
       "layout": "IPY_MODEL_ba3cecb3a42346d395a87ced277bf7e2",
       "style": "IPY_MODEL_9982ced750ab4e2898fea6e31de05fe3",
       "value": "<img src='https://guesswhocharacters.info/imgs/robert.jpeg' width=162 height=237>"
      }
     },
     "4ed50e6e83284ae5b52c5bf2b9440bef": {
      "model_module": "@jupyter-widgets/controls",
      "model_module_version": "1.5.0",
      "model_name": "HTMLModel",
      "state": {
       "layout": "IPY_MODEL_220516c281bf4b8b8a71599f571c1eb8",
       "style": "IPY_MODEL_b13ae5f0259e4d31acf1a63ffbf103ec",
       "value": "<img src='https://guesswhocharacters.info/imgs/sam.jpeg' width=162 height=237>"
      }
     },
     "51c3e1d3e1d54f988049193ca8b364cc": {
      "model_module": "@jupyter-widgets/controls",
      "model_module_version": "1.5.0",
      "model_name": "VBoxModel",
      "state": {
       "children": [
        "IPY_MODEL_d0fd67d6d40b4a169f7fdb6389de74e1",
        "IPY_MODEL_09810b03cfdf4e2ab263156f56738c5c"
       ],
       "layout": "IPY_MODEL_a942b36374b4452ab71aedd1fa218e8c"
      }
     },
     "527dbb2520f14ac3b7c6d2449be5a560": {
      "model_module": "@jupyter-widgets/base",
      "model_module_version": "1.2.0",
      "model_name": "LayoutModel",
      "state": {
       "grid_area": "widget018"
      }
     },
     "57c6eb36588244eba62f14c52d486657": {
      "model_module": "@jupyter-widgets/base",
      "model_module_version": "1.2.0",
      "model_name": "LayoutModel",
      "state": {}
     },
     "59cd336530b84049a7d985e1107d153b": {
      "model_module": "@jupyter-widgets/controls",
      "model_module_version": "1.5.0",
      "model_name": "ButtonStyleModel",
      "state": {}
     },
     "5ccd439f96524dffab547476481d0def": {
      "model_module": "@jupyter-widgets/controls",
      "model_module_version": "1.5.0",
      "model_name": "HTMLModel",
      "state": {
       "layout": "IPY_MODEL_89b98474a4fd4f6a8b9805703799a171",
       "style": "IPY_MODEL_4af5b963020f44c19d333d75aadfda8b",
       "value": "<img src='https://guesswhocharacters.info/imgs/herman.jpeg' width=162 height=237>"
      }
     },
     "5dcd379bd224459e832157db08f8935b": {
      "model_module": "@jupyter-widgets/controls",
      "model_module_version": "1.5.0",
      "model_name": "HTMLModel",
      "state": {
       "layout": "IPY_MODEL_692ce022540b45f9a871387ed1d109fd",
       "style": "IPY_MODEL_6de15ee793094ef5844f18b5b229e15a",
       "value": "<img src='https://guesswhocharacters.info/imgs/peter.jpeg' width=162 height=237>"
      }
     },
     "5e55f886dee849ab95ea9e354083a75c": {
      "model_module": "@jupyter-widgets/controls",
      "model_module_version": "1.5.0",
      "model_name": "HTMLModel",
      "state": {
       "layout": "IPY_MODEL_18b1e12ef83141d19be47626db54b3aa",
       "style": "IPY_MODEL_4cb045dda4074ce38d3fcf8c4053ad4c",
       "value": "<img src='https://guesswhocharacters.info/imgs/charles.jpeg' width=162 height=237>"
      }
     },
     "5f618deaa0d14c48a205d2e6cae66ad2": {
      "model_module": "@jupyter-widgets/controls",
      "model_module_version": "1.5.0",
      "model_name": "HTMLModel",
      "state": {
       "layout": "IPY_MODEL_c5372087201d496f9bba23ee9694acc7",
       "style": "IPY_MODEL_e7e98e6d91544cd1b8ce56ae3532a1c0",
       "value": "<img src='https://guesswhocharacters.info/imgs/tom.jpeg' width=162 height=237>"
      }
     },
     "5fbca459200f49c9a713bb57dd06a98b": {
      "model_module": "@jupyter-widgets/base",
      "model_module_version": "1.2.0",
      "model_name": "LayoutModel",
      "state": {
       "grid_area": "widget012"
      }
     },
     "600f50ebfc0b43af93495c927be0283a": {
      "model_module": "@jupyter-widgets/base",
      "model_module_version": "1.2.0",
      "model_name": "LayoutModel",
      "state": {}
     },
     "609ddfd68f4447b6bf86fb291aeb1d2e": {
      "model_module": "@jupyter-widgets/controls",
      "model_module_version": "1.5.0",
      "model_name": "DescriptionStyleModel",
      "state": {
       "description_width": ""
      }
     },
     "6207d4dda45f4d7984f00f2c4a593649": {
      "model_module": "@jupyter-widgets/base",
      "model_module_version": "1.2.0",
      "model_name": "LayoutModel",
      "state": {
       "grid_area": "widget016"
      }
     },
     "630c08f0f8c44cafa07b04b753f95faa": {
      "model_module": "@jupyter-widgets/base",
      "model_module_version": "1.2.0",
      "model_name": "LayoutModel",
      "state": {
       "grid_area": "widget007"
      }
     },
     "66b41819f19e4bf194a0f2905e423641": {
      "model_module": "@jupyter-widgets/base",
      "model_module_version": "1.2.0",
      "model_name": "LayoutModel",
      "state": {
       "grid_area": "widget012"
      }
     },
     "692ce022540b45f9a871387ed1d109fd": {
      "model_module": "@jupyter-widgets/base",
      "model_module_version": "1.2.0",
      "model_name": "LayoutModel",
      "state": {
       "grid_area": "widget018"
      }
     },
     "698d37c694da4ab4ac17720426d19891": {
      "model_module": "@jupyter-widgets/base",
      "model_module_version": "1.2.0",
      "model_name": "LayoutModel",
      "state": {
       "display": "none"
      }
     },
     "69c32b167464456b901b2c864a481a8f": {
      "model_module": "@jupyter-widgets/controls",
      "model_module_version": "1.5.0",
      "model_name": "HTMLModel",
      "state": {
       "layout": "IPY_MODEL_28dbc52f3add48f0a3bb32a0b7083fc3",
       "style": "IPY_MODEL_7264d0db53b54c2fa2708e206ab81610",
       "value": "<img src='https://guesswhocharacters.info/imgs/philip.jpeg' width=162 height=237>"
      }
     },
     "6a4a6c8ffc0a491b91e9673fe9e458d6": {
      "model_module": "@jupyter-widgets/controls",
      "model_module_version": "1.5.0",
      "model_name": "DescriptionStyleModel",
      "state": {
       "description_width": ""
      }
     },
     "6de15ee793094ef5844f18b5b229e15a": {
      "model_module": "@jupyter-widgets/controls",
      "model_module_version": "1.5.0",
      "model_name": "DescriptionStyleModel",
      "state": {
       "description_width": ""
      }
     },
     "70f85433f972405d966453800f619b6d": {
      "model_module": "@jupyter-widgets/controls",
      "model_module_version": "1.5.0",
      "model_name": "HTMLModel",
      "state": {
       "layout": "IPY_MODEL_7db15185dd184b2ab71f111135890866",
       "style": "IPY_MODEL_d79a101e8b65465599239be5b8ea1b31",
       "value": "<img src='https://guesswhocharacters.info/imgs/anne.jpeg' width=162 height=237>"
      }
     },
     "7264d0db53b54c2fa2708e206ab81610": {
      "model_module": "@jupyter-widgets/controls",
      "model_module_version": "1.5.0",
      "model_name": "DescriptionStyleModel",
      "state": {
       "description_width": ""
      }
     },
     "72a428691c1340cfa54b4643989a768c": {
      "model_module": "@jupyter-widgets/controls",
      "model_module_version": "1.5.0",
      "model_name": "HTMLModel",
      "state": {
       "layout": "IPY_MODEL_971d04f9747b48ccb19c62d9b5b3ebb0",
       "style": "IPY_MODEL_fd57431b08484f2aaac6fa3e69f3a4b1",
       "value": "<img src='https://guesswhocharacters.info/imgs/sam.jpeg' width=162 height=237>"
      }
     },
     "734c66b003554ce58ea0deb2a4ac25cc": {
      "model_module": "@jupyter-widgets/controls",
      "model_module_version": "1.5.0",
      "model_name": "HTMLModel",
      "state": {
       "layout": "IPY_MODEL_8132c907312a4965ba285d683cd19d72",
       "style": "IPY_MODEL_99af352043b74737b2bd2bd8ec7affb2",
       "value": "<img src='https://guesswhocharacters.info/imgs/richard.jpeg' width=162 height=237>"
      }
     },
     "781cd05f24df417f89d8f608411e05f8": {
      "model_module": "@jupyter-widgets/controls",
      "model_module_version": "1.5.0",
      "model_name": "HTMLModel",
      "state": {
       "layout": "IPY_MODEL_83eba417ea8b40bda95b6ae6c2981cb1",
       "style": "IPY_MODEL_88e9e83fd52b4a2e85422865cd759e53",
       "value": "<img src='https://guesswhocharacters.info/imgs/eric.jpeg' width=162 height=237>"
      }
     },
     "7ab84729975e464f9fb0092b287aa793": {
      "model_module": "@jupyter-widgets/controls",
      "model_module_version": "1.5.0",
      "model_name": "HTMLModel",
      "state": {
       "layout": "IPY_MODEL_b97317a1e3e047258efb37007718eaa1",
       "style": "IPY_MODEL_cb2bf6b1a7cd439ca2f37c88cdad4e5b",
       "value": "<img src='https://guesswhocharacters.info/imgs/bill.jpeg' width=162 height=237>"
      }
     },
     "7bc14baecea9441bb48f0ad62de2320d": {
      "model_module": "@jupyter-widgets/base",
      "model_module_version": "1.2.0",
      "model_name": "LayoutModel",
      "state": {}
     },
     "7db15185dd184b2ab71f111135890866": {
      "model_module": "@jupyter-widgets/base",
      "model_module_version": "1.2.0",
      "model_name": "LayoutModel",
      "state": {
       "grid_area": "widget004"
      }
     },
     "7e2c485c07c74774a8c7a26d6cab272f": {
      "model_module": "@jupyter-widgets/base",
      "model_module_version": "1.2.0",
      "model_name": "LayoutModel",
      "state": {
       "grid_area": "widget013"
      }
     },
     "7e3fb682200b4923a7a9348f40d5bc56": {
      "model_module": "@jupyter-widgets/controls",
      "model_module_version": "1.5.0",
      "model_name": "HTMLModel",
      "state": {
       "layout": "IPY_MODEL_98fe5a74203f4efb944c9e43be009369",
       "style": "IPY_MODEL_efd40723d968499380bda6faf49ae791",
       "value": "<img src='https://guesswhocharacters.info/imgs/frans.jpeg' width=162 height=237>"
      }
     },
     "8124d61ae7f847d4a7663052419db944": {
      "model_module": "@jupyter-widgets/controls",
      "model_module_version": "1.5.0",
      "model_name": "HTMLModel",
      "state": {
       "layout": "IPY_MODEL_42c583a27e814c4bac44ef49f13dd810",
       "style": "IPY_MODEL_16aea866a60e463a9aca84f9b202ee4b",
       "value": "<img src='https://guesswhocharacters.info/imgs/anita.jpeg' width=162 height=237>"
      }
     },
     "8132c907312a4965ba285d683cd19d72": {
      "model_module": "@jupyter-widgets/base",
      "model_module_version": "1.2.0",
      "model_name": "LayoutModel",
      "state": {
       "grid_area": "widget020"
      }
     },
     "83b79c842bf7497f936013f8831c5caf": {
      "model_module": "@jupyter-widgets/controls",
      "model_module_version": "1.5.0",
      "model_name": "HTMLModel",
      "state": {
       "layout": "IPY_MODEL_eea96959a5b44f6c86b5f2e34a7bad32",
       "style": "IPY_MODEL_ee80eed1e0384c5ab4db33f4ab319f6b",
       "value": "<img src='https://guesswhocharacters.info/imgs/eric.jpeg' width=162 height=237>"
      }
     },
     "83eba417ea8b40bda95b6ae6c2981cb1": {
      "model_module": "@jupyter-widgets/base",
      "model_module_version": "1.2.0",
      "model_name": "LayoutModel",
      "state": {
       "grid_area": "widget010"
      }
     },
     "84450eff129d4e4b816f3a9fac6ab3c5": {
      "model_module": "@jupyter-widgets/controls",
      "model_module_version": "1.5.0",
      "model_name": "ButtonModel",
      "state": {
       "description": "Yes",
       "layout": "IPY_MODEL_efc130523c5942cb94fe82b155a31d25",
       "style": "IPY_MODEL_dd1fb30d846c41eab2db1306df67edc4"
      }
     },
     "87796e69f74342598df56e8a374f48a3": {
      "model_module": "@jupyter-widgets/controls",
      "model_module_version": "1.5.0",
      "model_name": "DescriptionStyleModel",
      "state": {
       "description_width": ""
      }
     },
     "88961899151d49329ceb45f9ee5356da": {
      "model_module": "@jupyter-widgets/controls",
      "model_module_version": "1.5.0",
      "model_name": "DescriptionStyleModel",
      "state": {
       "description_width": ""
      }
     },
     "88e9e83fd52b4a2e85422865cd759e53": {
      "model_module": "@jupyter-widgets/controls",
      "model_module_version": "1.5.0",
      "model_name": "DescriptionStyleModel",
      "state": {
       "description_width": ""
      }
     },
     "89b98474a4fd4f6a8b9805703799a171": {
      "model_module": "@jupyter-widgets/base",
      "model_module_version": "1.2.0",
      "model_name": "LayoutModel",
      "state": {
       "grid_area": "widget013"
      }
     },
     "8c492c33b2694521970dce65388c82ae": {
      "model_module": "@jupyter-widgets/controls",
      "model_module_version": "1.5.0",
      "model_name": "ButtonModel",
      "state": {
       "description": "Play again",
       "layout": "IPY_MODEL_698d37c694da4ab4ac17720426d19891",
       "style": "IPY_MODEL_df5ffc67d7864807a4a4609f19e281cf"
      }
     },
     "8cccbb52ce5846c18f7f4117b098efe2": {
      "model_module": "@jupyter-widgets/base",
      "model_module_version": "1.2.0",
      "model_name": "LayoutModel",
      "state": {
       "grid_area": "widget009"
      }
     },
     "90405129e29745448d436dbc9fcb1b16": {
      "model_module": "@jupyter-widgets/controls",
      "model_module_version": "1.5.0",
      "model_name": "DescriptionStyleModel",
      "state": {
       "description_width": ""
      }
     },
     "90bbad036ac54cbdb68148d08fa3cfc8": {
      "model_module": "@jupyter-widgets/controls",
      "model_module_version": "1.5.0",
      "model_name": "LabelModel",
      "state": {
       "layout": "IPY_MODEL_600f50ebfc0b43af93495c927be0283a",
       "style": "IPY_MODEL_da5a5f686e5940639f446f8525f063f6",
       "value": "Does this person have a big mouth?"
      }
     },
     "91def8818f5c4d578d61679c85d5cf0e": {
      "model_module": "@jupyter-widgets/controls",
      "model_module_version": "1.5.0",
      "model_name": "ButtonModel",
      "state": {
       "description": "No",
       "layout": "IPY_MODEL_cce5ad210dc54eb8aa2822a3b95aa7cf",
       "style": "IPY_MODEL_1ce1c08db30d44dc8d68f68db1326126"
      }
     },
     "92959f17d8204ea78e2460d384ca07bd": {
      "model_module": "@jupyter-widgets/controls",
      "model_module_version": "1.5.0",
      "model_name": "HTMLModel",
      "state": {
       "layout": "IPY_MODEL_0cd14722758e4c4ca39690bafb4d7df3",
       "style": "IPY_MODEL_3aa90e1979f546a58664ca4a86c49526",
       "value": "<img src='https://guesswhocharacters.info/imgs/robert.jpeg' width=162 height=237>"
      }
     },
     "93178251e0114192ab66f28e130b7eac": {
      "model_module": "@jupyter-widgets/base",
      "model_module_version": "1.2.0",
      "model_name": "LayoutModel",
      "state": {
       "grid_area": "widget009"
      }
     },
     "94ca10e5f48c4fb787490dec5829f37a": {
      "model_module": "@jupyter-widgets/controls",
      "model_module_version": "1.5.0",
      "model_name": "DescriptionStyleModel",
      "state": {
       "description_width": ""
      }
     },
     "95915dbc11bf4bfc8d1f829d0f988e25": {
      "model_module": "@jupyter-widgets/controls",
      "model_module_version": "1.5.0",
      "model_name": "HTMLModel",
      "state": {
       "layout": "IPY_MODEL_9b71dcedcca84acf90bdc06546c81eb2",
       "style": "IPY_MODEL_bdc8ea3897e64296a01caca719641306",
       "value": "<img src='https://guesswhocharacters.info/imgs/philip.jpeg' width=162 height=237>"
      }
     },
     "971d04f9747b48ccb19c62d9b5b3ebb0": {
      "model_module": "@jupyter-widgets/base",
      "model_module_version": "1.2.0",
      "model_name": "LayoutModel",
      "state": {
       "grid_area": "widget022"
      }
     },
     "98fe5a74203f4efb944c9e43be009369": {
      "model_module": "@jupyter-widgets/base",
      "model_module_version": "1.2.0",
      "model_name": "LayoutModel",
      "state": {
       "grid_area": "widget011"
      }
     },
     "9982ced750ab4e2898fea6e31de05fe3": {
      "model_module": "@jupyter-widgets/controls",
      "model_module_version": "1.5.0",
      "model_name": "DescriptionStyleModel",
      "state": {
       "description_width": ""
      }
     },
     "99af352043b74737b2bd2bd8ec7affb2": {
      "model_module": "@jupyter-widgets/controls",
      "model_module_version": "1.5.0",
      "model_name": "DescriptionStyleModel",
      "state": {
       "description_width": ""
      }
     },
     "9aa0fc505c5c48338cb92129522aa43f": {
      "model_module": "@jupyter-widgets/controls",
      "model_module_version": "1.5.0",
      "model_name": "DescriptionStyleModel",
      "state": {
       "description_width": ""
      }
     },
     "9ac4cb292aa14e8790ad55ddba0e806a": {
      "model_module": "@jupyter-widgets/base",
      "model_module_version": "1.2.0",
      "model_name": "LayoutModel",
      "state": {
       "grid_area": "widget016"
      }
     },
     "9b71dcedcca84acf90bdc06546c81eb2": {
      "model_module": "@jupyter-widgets/base",
      "model_module_version": "1.2.0",
      "model_name": "LayoutModel",
      "state": {
       "grid_area": "widget019"
      }
     },
     "a187467f83644369a7666ceb33c9a7c6": {
      "model_module": "@jupyter-widgets/base",
      "model_module_version": "1.2.0",
      "model_name": "LayoutModel",
      "state": {
       "grid_area": "widget004"
      }
     },
     "a344844196f14acf97da7117ebf75b38": {
      "model_module": "@jupyter-widgets/controls",
      "model_module_version": "1.5.0",
      "model_name": "GridBoxModel",
      "state": {
       "children": [
        "IPY_MODEL_d91c2d3155ff4c26a26579386c821464",
        "IPY_MODEL_a3e58986b80942eeaca3971e79a5b566",
        "IPY_MODEL_8124d61ae7f847d4a7663052419db944",
        "IPY_MODEL_22eb8aeeb2de493fbb2fd80d943e4707",
        "IPY_MODEL_b02d925be54c4c4bb9220b404938d466",
        "IPY_MODEL_7ab84729975e464f9fb0092b287aa793",
        "IPY_MODEL_5e55f886dee849ab95ea9e354083a75c",
        "IPY_MODEL_1e349eae83e2474e83154745657535e8",
        "IPY_MODEL_b1014dc8cebc4d7d908aa1d150cc5547",
        "IPY_MODEL_781cd05f24df417f89d8f608411e05f8",
        "IPY_MODEL_a443e819e0c347059463b27b68be8ad7",
        "IPY_MODEL_0c3e8e1a3c7746aa85b774e877dc5740",
        "IPY_MODEL_ace5f746b35149a4a6276d74fa5b68c9",
        "IPY_MODEL_bd560a003c5c4adfbb7f334a10ce0f5d",
        "IPY_MODEL_08e3d86307854036905af58c61b55d28",
        "IPY_MODEL_13f90b91e66546daa230418eeac28384",
        "IPY_MODEL_a63e1aea00004794a2b5e8384db8dd24",
        "IPY_MODEL_5dcd379bd224459e832157db08f8935b",
        "IPY_MODEL_69c32b167464456b901b2c864a481a8f",
        "IPY_MODEL_734c66b003554ce58ea0deb2a4ac25cc",
        "IPY_MODEL_4e3f925a46c24eef8632a05f52cca703",
        "IPY_MODEL_4ed50e6e83284ae5b52c5bf2b9440bef",
        "IPY_MODEL_2fa9b09c059545299870c1b19d3ce73a",
        "IPY_MODEL_5f618deaa0d14c48a205d2e6cae66ad2"
       ],
       "layout": "IPY_MODEL_39364dddd1504a68a1ade5233044ace7"
      }
     },
     "a3e58986b80942eeaca3971e79a5b566": {
      "model_module": "@jupyter-widgets/controls",
      "model_module_version": "1.5.0",
      "model_name": "HTMLModel",
      "state": {
       "layout": "IPY_MODEL_e80c4729da944f5db202064f80b116c6",
       "style": "IPY_MODEL_03c8c808f04143ef98028c4e33a5e0de",
       "value": "<img src='https://guesswhocharacters.info/imgs/alfred.jpeg' width=162 height=237>"
      }
     },
     "a443e819e0c347059463b27b68be8ad7": {
      "model_module": "@jupyter-widgets/controls",
      "model_module_version": "1.5.0",
      "model_name": "HTMLModel",
      "state": {
       "layout": "IPY_MODEL_2764c810157f43ca9efcd2241e1eb3aa",
       "style": "IPY_MODEL_f89666403a2947899d4d8a93ae59dbbf",
       "value": "<img src='https://guesswhocharacters.info/imgs/frans.jpeg' width=162 height=237>"
      }
     },
     "a63e1aea00004794a2b5e8384db8dd24": {
      "model_module": "@jupyter-widgets/controls",
      "model_module_version": "1.5.0",
      "model_name": "HTMLModel",
      "state": {
       "layout": "IPY_MODEL_a8500c223ebd404794fc7025987589b1",
       "style": "IPY_MODEL_4870e9126ec24675a5b01e9f2d83c8ae",
       "value": "<img src='https://guesswhocharacters.info/imgs/paul.jpeg' width=162 height=237>"
      }
     },
     "a832e3a7b6ab418fbc85f9aa1bc2ff2f": {
      "model_module": "@jupyter-widgets/controls",
      "model_module_version": "1.5.0",
      "model_name": "LabelModel",
      "state": {
       "layout": "IPY_MODEL_c1ed23f617eb42e68ad24c39123dbec0",
       "style": "IPY_MODEL_6a4a6c8ffc0a491b91e9673fe9e458d6",
       "value": "Does your character have a big mouth?"
      }
     },
     "a8500c223ebd404794fc7025987589b1": {
      "model_module": "@jupyter-widgets/base",
      "model_module_version": "1.2.0",
      "model_name": "LayoutModel",
      "state": {
       "grid_area": "widget017"
      }
     },
     "a942b36374b4452ab71aedd1fa218e8c": {
      "model_module": "@jupyter-widgets/base",
      "model_module_version": "1.2.0",
      "model_name": "LayoutModel",
      "state": {}
     },
     "ab164734d561462cb7a83cd7469b6ae7": {
      "model_module": "@jupyter-widgets/controls",
      "model_module_version": "1.5.0",
      "model_name": "DescriptionStyleModel",
      "state": {
       "description_width": ""
      }
     },
     "ace5f746b35149a4a6276d74fa5b68c9": {
      "model_module": "@jupyter-widgets/controls",
      "model_module_version": "1.5.0",
      "model_name": "HTMLModel",
      "state": {
       "layout": "IPY_MODEL_7e2c485c07c74774a8c7a26d6cab272f",
       "style": "IPY_MODEL_437cc84b4ca84e868d0cb427831173c8",
       "value": "<img src='https://guesswhocharacters.info/imgs/herman.jpeg' width=162 height=237>"
      }
     },
     "adafdcf1cb0f4bc6ab8695fa5c63304d": {
      "model_module": "@jupyter-widgets/controls",
      "model_module_version": "1.5.0",
      "model_name": "HTMLModel",
      "state": {
       "layout": "IPY_MODEL_93178251e0114192ab66f28e130b7eac",
       "style": "IPY_MODEL_afc54d561abd403189db85808f5ca066",
       "value": "<img src='https://guesswhocharacters.info/imgs/david.jpeg' width=162 height=237>"
      }
     },
     "adc5628554364867ba2531cc10e97b6b": {
      "model_module": "@jupyter-widgets/base",
      "model_module_version": "1.2.0",
      "model_name": "LayoutModel",
      "state": {
       "grid_area": "widget008"
      }
     },
     "afc54d561abd403189db85808f5ca066": {
      "model_module": "@jupyter-widgets/controls",
      "model_module_version": "1.5.0",
      "model_name": "DescriptionStyleModel",
      "state": {
       "description_width": ""
      }
     },
     "b02d925be54c4c4bb9220b404938d466": {
      "model_module": "@jupyter-widgets/controls",
      "model_module_version": "1.5.0",
      "model_name": "HTMLModel",
      "state": {
       "layout": "IPY_MODEL_bfd23877b0d8499c9e71f5907fe3381d",
       "style": "IPY_MODEL_c622274521ce42f9826c62315ed05557",
       "value": "<img src='https://guesswhocharacters.info/imgs/bernard.jpeg' width=162 height=237>"
      }
     },
     "b0997255c4cc43d5915295e9c33d7573": {
      "model_module": "@jupyter-widgets/base",
      "model_module_version": "1.2.0",
      "model_name": "LayoutModel",
      "state": {
       "grid_template_areas": "\"widget001 widget002 widget003 widget004 widget005 widget006 widget007 widget008\"\n\"widget009 widget010 widget011 widget012 widget013 widget014 widget015 widget016\"\n\"widget017 widget018 widget019 widget020 widget021 widget022 widget023 widget024\"",
       "grid_template_columns": "repeat(8, 1fr)",
       "grid_template_rows": "repeat(3, 1fr)",
       "width": "1400px"
      }
     },
     "b0b2c16608b840388e6b831e0af63a85": {
      "model_module": "@jupyter-widgets/base",
      "model_module_version": "1.2.0",
      "model_name": "LayoutModel",
      "state": {
       "grid_area": "widget006"
      }
     },
     "b1014dc8cebc4d7d908aa1d150cc5547": {
      "model_module": "@jupyter-widgets/controls",
      "model_module_version": "1.5.0",
      "model_name": "HTMLModel",
      "state": {
       "layout": "IPY_MODEL_8cccbb52ce5846c18f7f4117b098efe2",
       "style": "IPY_MODEL_fa446e609c134fd6b872e5021a30c8ed",
       "value": "<img src='https://guesswhocharacters.info/imgs/david.jpeg' width=162 height=237>"
      }
     },
     "b13ae5f0259e4d31acf1a63ffbf103ec": {
      "model_module": "@jupyter-widgets/controls",
      "model_module_version": "1.5.0",
      "model_name": "DescriptionStyleModel",
      "state": {
       "description_width": ""
      }
     },
     "b78f81a3b21e41968697a261a17974bb": {
      "model_module": "@jupyter-widgets/controls",
      "model_module_version": "1.5.0",
      "model_name": "ButtonModel",
      "state": {
       "description": "No",
       "layout": "IPY_MODEL_4c9be5b630724b3b8b78e28a718486f5",
       "style": "IPY_MODEL_e7c8fe2bd2484e09956a6b9dbe7f65cb"
      }
     },
     "b940a18ef7214057a6d5ad36c96ab6e5": {
      "model_module": "@jupyter-widgets/base",
      "model_module_version": "1.2.0",
      "model_name": "LayoutModel",
      "state": {
       "display": "none"
      }
     },
     "b97317a1e3e047258efb37007718eaa1": {
      "model_module": "@jupyter-widgets/base",
      "model_module_version": "1.2.0",
      "model_name": "LayoutModel",
      "state": {
       "grid_area": "widget006"
      }
     },
     "ba3cecb3a42346d395a87ced277bf7e2": {
      "model_module": "@jupyter-widgets/base",
      "model_module_version": "1.2.0",
      "model_name": "LayoutModel",
      "state": {
       "grid_area": "widget021"
      }
     },
     "bb8ac779e9c94f0c9653487df6186afb": {
      "model_module": "@jupyter-widgets/controls",
      "model_module_version": "1.5.0",
      "model_name": "HTMLModel",
      "state": {
       "layout": "IPY_MODEL_fcf00b44581e4b20bdde81df99e69c3d",
       "style": "IPY_MODEL_cd5ad8997e534463993100ed2314f230",
       "value": "<img src='https://guesswhocharacters.info/imgs/richard.jpeg' width=162 height=237>"
      }
     },
     "bbed1e1127d246e99aefef4fc77a2d0f": {
      "model_module": "@jupyter-widgets/controls",
      "model_module_version": "1.5.0",
      "model_name": "DescriptionStyleModel",
      "state": {
       "description_width": ""
      }
     },
     "bd560a003c5c4adfbb7f334a10ce0f5d": {
      "model_module": "@jupyter-widgets/controls",
      "model_module_version": "1.5.0",
      "model_name": "HTMLModel",
      "state": {
       "layout": "IPY_MODEL_d1362aa2792b431083589ecbda84b928",
       "style": "IPY_MODEL_fc24971f582b4d45a59bbdeff2cbf08e",
       "value": "<img src='https://guesswhocharacters.info/imgs/joe.jpeg' width=162 height=237>"
      }
     },
     "bdc8ea3897e64296a01caca719641306": {
      "model_module": "@jupyter-widgets/controls",
      "model_module_version": "1.5.0",
      "model_name": "DescriptionStyleModel",
      "state": {
       "description_width": ""
      }
     },
     "bfa03e8bbffe4a09a9ed63d657200806": {
      "model_module": "@jupyter-widgets/controls",
      "model_module_version": "1.5.0",
      "model_name": "ButtonStyleModel",
      "state": {}
     },
     "bfd23877b0d8499c9e71f5907fe3381d": {
      "model_module": "@jupyter-widgets/base",
      "model_module_version": "1.2.0",
      "model_name": "LayoutModel",
      "state": {
       "grid_area": "widget005"
      }
     },
     "c1ed23f617eb42e68ad24c39123dbec0": {
      "model_module": "@jupyter-widgets/base",
      "model_module_version": "1.2.0",
      "model_name": "LayoutModel",
      "state": {}
     },
     "c5372087201d496f9bba23ee9694acc7": {
      "model_module": "@jupyter-widgets/base",
      "model_module_version": "1.2.0",
      "model_name": "LayoutModel",
      "state": {
       "grid_area": "widget024"
      }
     },
     "c622274521ce42f9826c62315ed05557": {
      "model_module": "@jupyter-widgets/controls",
      "model_module_version": "1.5.0",
      "model_name": "DescriptionStyleModel",
      "state": {
       "description_width": ""
      }
     },
     "c64478b3323144828c38d5a36e495e87": {
      "model_module": "@jupyter-widgets/controls",
      "model_module_version": "1.5.0",
      "model_name": "HTMLModel",
      "state": {
       "layout": "IPY_MODEL_9ac4cb292aa14e8790ad55ddba0e806a",
       "style": "IPY_MODEL_204616985e594cdf8d0258519daa811e",
       "value": "<img src='https://guesswhocharacters.info/imgs/max.jpeg' width=162 height=237>"
      }
     },
     "c869d68a873f4589ad57ff012287dbc6": {
      "model_module": "@jupyter-widgets/base",
      "model_module_version": "1.2.0",
      "model_name": "LayoutModel",
      "state": {}
     },
     "c8dfde766e31409cb28456744b2a06ef": {
      "model_module": "@jupyter-widgets/controls",
      "model_module_version": "1.5.0",
      "model_name": "DescriptionStyleModel",
      "state": {
       "description_width": ""
      }
     },
     "cb2bf6b1a7cd439ca2f37c88cdad4e5b": {
      "model_module": "@jupyter-widgets/controls",
      "model_module_version": "1.5.0",
      "model_name": "DescriptionStyleModel",
      "state": {
       "description_width": ""
      }
     },
     "cb47b70bd5ff402bbd87ec9b1a0b3d97": {
      "model_module": "@jupyter-widgets/base",
      "model_module_version": "1.2.0",
      "model_name": "LayoutModel",
      "state": {
       "grid_area": "widget003"
      }
     },
     "cce5ad210dc54eb8aa2822a3b95aa7cf": {
      "model_module": "@jupyter-widgets/base",
      "model_module_version": "1.2.0",
      "model_name": "LayoutModel",
      "state": {
       "display": "block"
      }
     },
     "ccf9271cda7b4cee841a116cc0ba4b84": {
      "model_module": "@jupyter-widgets/controls",
      "model_module_version": "1.5.0",
      "model_name": "HTMLModel",
      "state": {
       "layout": "IPY_MODEL_03db2aa9200944bb9cd015ec142f63ae",
       "style": "IPY_MODEL_88961899151d49329ceb45f9ee5356da",
       "value": "<img src='https://guesswhocharacters.info/imgs/paul.jpeg' width=162 height=237>"
      }
     },
     "cd5ad8997e534463993100ed2314f230": {
      "model_module": "@jupyter-widgets/controls",
      "model_module_version": "1.5.0",
      "model_name": "DescriptionStyleModel",
      "state": {
       "description_width": ""
      }
     },
     "d0070c56a3ed44ee87d5ca2a5b75b3ed": {
      "model_module": "@jupyter-widgets/controls",
      "model_module_version": "1.5.0",
      "model_name": "DescriptionStyleModel",
      "state": {
       "description_width": ""
      }
     },
     "d0fd67d6d40b4a169f7fdb6389de74e1": {
      "model_module": "@jupyter-widgets/controls",
      "model_module_version": "1.5.0",
      "model_name": "GridBoxModel",
      "state": {
       "children": [
        "IPY_MODEL_f27e765002c04e54a01efdd4e1073ba3",
        "IPY_MODEL_e0d3c39724834c68b98b7ec517cedbf2",
        "IPY_MODEL_41bc3fed16de424b98df1a92937ed76e",
        "IPY_MODEL_70f85433f972405d966453800f619b6d",
        "IPY_MODEL_1b0ad1cdf9e54f288e30636828a8f694",
        "IPY_MODEL_e0f2681a54654147b04df80d87fc8ca1",
        "IPY_MODEL_e73d8a8d2b2f4fa5a670fc0ccc5c83e0",
        "IPY_MODEL_2225cc7555b8407aa1d9bc99fa79abac",
        "IPY_MODEL_adafdcf1cb0f4bc6ab8695fa5c63304d",
        "IPY_MODEL_83b79c842bf7497f936013f8831c5caf",
        "IPY_MODEL_7e3fb682200b4923a7a9348f40d5bc56",
        "IPY_MODEL_1d179b4448f54ba1948256599a0e0ea5",
        "IPY_MODEL_5ccd439f96524dffab547476481d0def",
        "IPY_MODEL_0a2765b32a874ad196b59296d25bef30",
        "IPY_MODEL_f916ddd1dce54b9a877fd6217c87189f",
        "IPY_MODEL_c64478b3323144828c38d5a36e495e87",
        "IPY_MODEL_ccf9271cda7b4cee841a116cc0ba4b84",
        "IPY_MODEL_1804fc43a72e4d38abcbc3db13dfbe42",
        "IPY_MODEL_95915dbc11bf4bfc8d1f829d0f988e25",
        "IPY_MODEL_bb8ac779e9c94f0c9653487df6186afb",
        "IPY_MODEL_92959f17d8204ea78e2460d384ca07bd",
        "IPY_MODEL_72a428691c1340cfa54b4643989a768c",
        "IPY_MODEL_25926b3aff5148fc8e5a073d6cf6bc81",
        "IPY_MODEL_fa867d6928d8442daf1fa041ed1dd95e"
       ],
       "layout": "IPY_MODEL_b0997255c4cc43d5915295e9c33d7573"
      }
     },
     "d1362aa2792b431083589ecbda84b928": {
      "model_module": "@jupyter-widgets/base",
      "model_module_version": "1.2.0",
      "model_name": "LayoutModel",
      "state": {
       "grid_area": "widget014"
      }
     },
     "d212650515dc416cb39031c7b06e4350": {
      "model_module": "@jupyter-widgets/controls",
      "model_module_version": "1.5.0",
      "model_name": "DescriptionStyleModel",
      "state": {
       "description_width": ""
      }
     },
     "d76bc90f287f4d41911494ac4cce5730": {
      "model_module": "@jupyter-widgets/controls",
      "model_module_version": "1.5.0",
      "model_name": "DescriptionStyleModel",
      "state": {
       "description_width": ""
      }
     },
     "d79a101e8b65465599239be5b8ea1b31": {
      "model_module": "@jupyter-widgets/controls",
      "model_module_version": "1.5.0",
      "model_name": "DescriptionStyleModel",
      "state": {
       "description_width": ""
      }
     },
     "d91c2d3155ff4c26a26579386c821464": {
      "model_module": "@jupyter-widgets/controls",
      "model_module_version": "1.5.0",
      "model_name": "HTMLModel",
      "state": {
       "layout": "IPY_MODEL_eda41696905349eeb2513111e05b6c5c",
       "style": "IPY_MODEL_d76bc90f287f4d41911494ac4cce5730",
       "value": "<img src='https://guesswhocharacters.info/imgs/alex.jpeg' width=162 height=237>"
      }
     },
     "da5a5f686e5940639f446f8525f063f6": {
      "model_module": "@jupyter-widgets/controls",
      "model_module_version": "1.5.0",
      "model_name": "DescriptionStyleModel",
      "state": {
       "description_width": ""
      }
     },
     "dcf53408bad44622835ccb9334d62887": {
      "model_module": "@jupyter-widgets/base",
      "model_module_version": "1.2.0",
      "model_name": "LayoutModel",
      "state": {
       "grid_area": "widget024"
      }
     },
     "dd1fb30d846c41eab2db1306df67edc4": {
      "model_module": "@jupyter-widgets/controls",
      "model_module_version": "1.5.0",
      "model_name": "ButtonStyleModel",
      "state": {}
     },
     "df5ffc67d7864807a4a4609f19e281cf": {
      "model_module": "@jupyter-widgets/controls",
      "model_module_version": "1.5.0",
      "model_name": "ButtonStyleModel",
      "state": {}
     },
     "e0d3c39724834c68b98b7ec517cedbf2": {
      "model_module": "@jupyter-widgets/controls",
      "model_module_version": "1.5.0",
      "model_name": "HTMLModel",
      "state": {
       "layout": "IPY_MODEL_3de6b4dfc7f24c4293fbd1e6471a76a1",
       "style": "IPY_MODEL_d212650515dc416cb39031c7b06e4350",
       "value": "<img src='https://guesswhocharacters.info/imgs/alfred.jpeg' width=162 height=237>"
      }
     },
     "e0f2681a54654147b04df80d87fc8ca1": {
      "model_module": "@jupyter-widgets/controls",
      "model_module_version": "1.5.0",
      "model_name": "HTMLModel",
      "state": {
       "layout": "IPY_MODEL_b0b2c16608b840388e6b831e0af63a85",
       "style": "IPY_MODEL_4a159aae3157432d9aef278fed4a3216",
       "value": "<img src='https://guesswhocharacters.info/imgs/bill.jpeg' width=162 height=237>"
      }
     },
     "e13e1b31158a416dbd53a6c0a93eb1ea": {
      "model_module": "@jupyter-widgets/controls",
      "model_module_version": "1.5.0",
      "model_name": "DescriptionStyleModel",
      "state": {
       "description_width": ""
      }
     },
     "e652541a9ef942fe92556d391a4e29f2": {
      "model_module": "@jupyter-widgets/controls",
      "model_module_version": "1.5.0",
      "model_name": "DescriptionStyleModel",
      "state": {
       "description_width": ""
      }
     },
     "e73d8a8d2b2f4fa5a670fc0ccc5c83e0": {
      "model_module": "@jupyter-widgets/controls",
      "model_module_version": "1.5.0",
      "model_name": "HTMLModel",
      "state": {
       "layout": "IPY_MODEL_630c08f0f8c44cafa07b04b753f95faa",
       "style": "IPY_MODEL_90405129e29745448d436dbc9fcb1b16",
       "value": "<img src='https://guesswhocharacters.info/imgs/charles.jpeg' width=162 height=237>"
      }
     },
     "e7c8fe2bd2484e09956a6b9dbe7f65cb": {
      "model_module": "@jupyter-widgets/controls",
      "model_module_version": "1.5.0",
      "model_name": "ButtonStyleModel",
      "state": {}
     },
     "e7e98e6d91544cd1b8ce56ae3532a1c0": {
      "model_module": "@jupyter-widgets/controls",
      "model_module_version": "1.5.0",
      "model_name": "DescriptionStyleModel",
      "state": {
       "description_width": ""
      }
     },
     "e80c4729da944f5db202064f80b116c6": {
      "model_module": "@jupyter-widgets/base",
      "model_module_version": "1.2.0",
      "model_name": "LayoutModel",
      "state": {
       "grid_area": "widget002"
      }
     },
     "e8e2d04ed42449eca149d97da945d505": {
      "model_module": "@jupyter-widgets/controls",
      "model_module_version": "1.5.0",
      "model_name": "VBoxModel",
      "state": {
       "children": [
        "IPY_MODEL_a344844196f14acf97da7117ebf75b38",
        "IPY_MODEL_f57c6dbafbae4fc68e4f63d92dc81182"
       ],
       "layout": "IPY_MODEL_57c6eb36588244eba62f14c52d486657"
      }
     },
     "eda41696905349eeb2513111e05b6c5c": {
      "model_module": "@jupyter-widgets/base",
      "model_module_version": "1.2.0",
      "model_name": "LayoutModel",
      "state": {
       "grid_area": "widget001"
      }
     },
     "ee80eed1e0384c5ab4db33f4ab319f6b": {
      "model_module": "@jupyter-widgets/controls",
      "model_module_version": "1.5.0",
      "model_name": "DescriptionStyleModel",
      "state": {
       "description_width": ""
      }
     },
     "eea96959a5b44f6c86b5f2e34a7bad32": {
      "model_module": "@jupyter-widgets/base",
      "model_module_version": "1.2.0",
      "model_name": "LayoutModel",
      "state": {
       "grid_area": "widget010"
      }
     },
     "efc130523c5942cb94fe82b155a31d25": {
      "model_module": "@jupyter-widgets/base",
      "model_module_version": "1.2.0",
      "model_name": "LayoutModel",
      "state": {
       "display": "block"
      }
     },
     "efd40723d968499380bda6faf49ae791": {
      "model_module": "@jupyter-widgets/controls",
      "model_module_version": "1.5.0",
      "model_name": "DescriptionStyleModel",
      "state": {
       "description_width": ""
      }
     },
     "f03b8d0bdec74a50bdb5723d7ce5e457": {
      "model_module": "@jupyter-widgets/controls",
      "model_module_version": "1.5.0",
      "model_name": "DescriptionStyleModel",
      "state": {
       "description_width": ""
      }
     },
     "f27e765002c04e54a01efdd4e1073ba3": {
      "model_module": "@jupyter-widgets/controls",
      "model_module_version": "1.5.0",
      "model_name": "HTMLModel",
      "state": {
       "layout": "IPY_MODEL_1bf4ebe0a1b94a1ea6d1e1fa44355928",
       "style": "IPY_MODEL_c8dfde766e31409cb28456744b2a06ef",
       "value": "<img src='https://guesswhocharacters.info/imgs/alex.jpeg' width=162 height=237>"
      }
     },
     "f57c6dbafbae4fc68e4f63d92dc81182": {
      "model_module": "@jupyter-widgets/controls",
      "model_module_version": "1.5.0",
      "model_name": "HBoxModel",
      "state": {
       "children": [
        "IPY_MODEL_90bbad036ac54cbdb68148d08fa3cfc8",
        "IPY_MODEL_84450eff129d4e4b816f3a9fac6ab3c5",
        "IPY_MODEL_91def8818f5c4d578d61679c85d5cf0e",
        "IPY_MODEL_8c492c33b2694521970dce65388c82ae"
       ],
       "layout": "IPY_MODEL_7bc14baecea9441bb48f0ad62de2320d"
      }
     },
     "f7bcd2e2571941988b53a944fe91d7fc": {
      "model_module": "@jupyter-widgets/base",
      "model_module_version": "1.2.0",
      "model_name": "LayoutModel",
      "state": {
       "grid_area": "widget023"
      }
     },
     "f89666403a2947899d4d8a93ae59dbbf": {
      "model_module": "@jupyter-widgets/controls",
      "model_module_version": "1.5.0",
      "model_name": "DescriptionStyleModel",
      "state": {
       "description_width": ""
      }
     },
     "f916ddd1dce54b9a877fd6217c87189f": {
      "model_module": "@jupyter-widgets/controls",
      "model_module_version": "1.5.0",
      "model_name": "HTMLModel",
      "state": {
       "layout": "IPY_MODEL_2b629bfaab7b412d8627393543237eb6",
       "style": "IPY_MODEL_2a12c8b17d654476a90925b09c2ea5f8",
       "value": "<img src='https://guesswhocharacters.info/imgs/maria.jpeg' width=162 height=237>"
      }
     },
     "fa446e609c134fd6b872e5021a30c8ed": {
      "model_module": "@jupyter-widgets/controls",
      "model_module_version": "1.5.0",
      "model_name": "DescriptionStyleModel",
      "state": {
       "description_width": ""
      }
     },
     "fa867d6928d8442daf1fa041ed1dd95e": {
      "model_module": "@jupyter-widgets/controls",
      "model_module_version": "1.5.0",
      "model_name": "HTMLModel",
      "state": {
       "layout": "IPY_MODEL_dcf53408bad44622835ccb9334d62887",
       "style": "IPY_MODEL_bbed1e1127d246e99aefef4fc77a2d0f",
       "value": "<img src='https://guesswhocharacters.info/imgs/tom.jpeg' width=162 height=237>"
      }
     },
     "fbb9d73edae9426ea2d9f3e07c032eea": {
      "model_module": "@jupyter-widgets/base",
      "model_module_version": "1.2.0",
      "model_name": "LayoutModel",
      "state": {
       "grid_area": "widget014"
      }
     },
     "fc24971f582b4d45a59bbdeff2cbf08e": {
      "model_module": "@jupyter-widgets/controls",
      "model_module_version": "1.5.0",
      "model_name": "DescriptionStyleModel",
      "state": {
       "description_width": ""
      }
     },
     "fcf00b44581e4b20bdde81df99e69c3d": {
      "model_module": "@jupyter-widgets/base",
      "model_module_version": "1.2.0",
      "model_name": "LayoutModel",
      "state": {
       "grid_area": "widget020"
      }
     },
     "fd57431b08484f2aaac6fa3e69f3a4b1": {
      "model_module": "@jupyter-widgets/controls",
      "model_module_version": "1.5.0",
      "model_name": "DescriptionStyleModel",
      "state": {
       "description_width": ""
      }
     }
    },
    "version_major": 2,
    "version_minor": 0
   }
  }
 },
 "nbformat": 4,
 "nbformat_minor": 4
}
